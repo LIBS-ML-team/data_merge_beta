{
 "cells": [
  {
   "cell_type": "code",
   "execution_count": 9,
   "metadata": {},
   "outputs": [],
   "source": [
    "from object_detection.src.data import merge_data_yamls, merge_datasets\n",
    "from object_detection.src.analyzer import analyze_datasets\n",
    "import roboflow\n",
    "from getpass import getpass\n",
    "import os\n",
    "from roboflow import Roboflow"
   ]
  },
  {
   "cell_type": "markdown",
   "metadata": {},
   "source": []
  },
  {
   "cell_type": "code",
   "execution_count": null,
   "metadata": {},
   "outputs": [],
   "source": []
  },
  {
   "cell_type": "code",
   "execution_count": 3,
   "metadata": {},
   "outputs": [
    {
     "name": "stdout",
     "output_type": "stream",
     "text": [
      "loading Roboflow workspace...\n",
      "loading Roboflow project...\n"
     ]
    },
    {
     "name": "stderr",
     "output_type": "stream",
     "text": [
      "Downloading Dataset Version Zip in PPE-Detection-Using-CV-3 to yolov5pytorch:: 100%|██████████| 241175/241175 [00:10<00:00, 24045.76it/s]"
     ]
    },
    {
     "name": "stdout",
     "output_type": "stream",
     "text": [
      "\n"
     ]
    },
    {
     "name": "stderr",
     "output_type": "stream",
     "text": [
      "\n",
      "Extracting Dataset Version Zip to PPE-Detection-Using-CV-3 in yolov5pytorch:: 100%|██████████| 4104/4104 [00:04<00:00, 862.92it/s] \n"
     ]
    }
   ],
   "source": [
    "roboflow_api_key = getpass('Enter your Roboflow API Key: ')\n",
    "rf = Roboflow(api_key=roboflow_api_key)\n",
    "project = rf.workspace(\"ai-camp-safety-equipment-detection\").project(\"ppe-detection-using-cv\")\n",
    "version = project.version(3)\n",
    "dataset = version.download(\"yolov5\")\n",
    "                "
   ]
  },
  {
   "cell_type": "code",
   "execution_count": 4,
   "metadata": {},
   "outputs": [],
   "source": [
    "!mv /home/LIBS/jozefov/projects/object_detection_avaltar/object_detection/src/final/PPE-Detection-Using-CV-3 /home/LIBS/jozefov/projects/object_detection_avaltar/object_detection/data"
   ]
  },
  {
   "cell_type": "code",
   "execution_count": 5,
   "metadata": {},
   "outputs": [],
   "source": [
    "original_yamls = [\n",
    "    '/home/LIBS/jozefov/projects/object_detection_avaltar/object_detection/data/merged_forklift/annotations/data.yaml',\n",
    "    '/home/LIBS/jozefov/projects/object_detection_avaltar/object_detection/data/PPE-Detection-Using-CV-3/data.yaml'\n",
    "]"
   ]
  },
  {
   "cell_type": "code",
   "execution_count": 6,
   "metadata": {},
   "outputs": [],
   "source": [
    "# Paths to the merged image directories\n",
    "merged_train = '/home/LIBS/jozefov/projects/object_detection_avaltar/object_detection/data/merged_dataset/train'\n",
    "merged_val = '/home/LIBS/jozefov/projects/object_detection_avaltar/object_detection/data/merged_dataset/val'\n",
    "merged_test = '/home/LIBS/jozefov/projects/object_detection_avaltar/object_detection/data/merged_dataset/test'"
   ]
  },
  {
   "cell_type": "code",
   "execution_count": 7,
   "metadata": {},
   "outputs": [],
   "source": [
    "merged_yaml = '/home/LIBS/jozefov/projects/object_detection_avaltar/object_detection/data/merged_dataset/data.yaml'\n",
    "mappings_yaml = '/home/LIBS/jozefov/projects/object_detection_avaltar/object_detection/data/merged_dataset/class_mappings.yaml'"
   ]
  },
  {
   "cell_type": "code",
   "execution_count": 10,
   "metadata": {},
   "outputs": [],
   "source": [
    "os.makedirs(merged_train, exist_ok=True)\n",
    "os.makedirs(merged_val, exist_ok=True)\n",
    "os.makedirs(merged_test, exist_ok=True)"
   ]
  },
  {
   "cell_type": "markdown",
   "metadata": {},
   "source": [
    "# Merge YAMLs"
   ]
  },
  {
   "cell_type": "code",
   "execution_count": 11,
   "metadata": {},
   "outputs": [
    {
     "name": "stdout",
     "output_type": "stream",
     "text": [
      "\n",
      "Merged Classes:\n",
      "0: person\n",
      "1: forklift\n",
      "2: goggles\n",
      "3: helmet\n",
      "4: no-goggles\n",
      "5: no-helmet\n",
      "6: no-vest\n",
      "7: vest\n",
      "\n",
      "Class Mappings per Dataset:\n",
      "\n",
      "Dataset: /home/LIBS/jozefov/projects/object_detection_avaltar/object_detection/data/merged_forklift/annotations/data.yaml\n",
      "  Original Index 0 -> New Index 0\n",
      "  Original Index 1 -> New Index 1\n",
      "\n",
      "Dataset: /home/LIBS/jozefov/projects/object_detection_avaltar/object_detection/data/PPE-Detection-Using-CV-3/data.yaml\n",
      "  Original Index 0 -> New Index 0\n",
      "  Original Index 1 -> New Index 2\n",
      "  Original Index 2 -> New Index 3\n",
      "  Original Index 3 -> New Index 4\n",
      "  Original Index 4 -> New Index 5\n",
      "  Original Index 5 -> New Index 6\n",
      "  Original Index 6 -> New Index 7\n",
      "\n",
      "Class mappings have been saved to /home/LIBS/jozefov/projects/object_detection_avaltar/object_detection/data/merged_dataset/class_mappings.yaml\n"
     ]
    }
   ],
   "source": [
    "merged_classes, class_mappings = merge_data_yamls(\n",
    "    yaml_paths=original_yamls,\n",
    "    merged_yaml_path=merged_yaml,\n",
    "    merged_train_path=merged_train,\n",
    "    merged_val_path=merged_val,\n",
    "    merged_test_path=merged_test,  # Omit if not needed\n",
    "    mappings_yaml_path=mappings_yaml  # Optional: save mappings to a YAML file\n",
    ")"
   ]
  },
  {
   "cell_type": "markdown",
   "metadata": {},
   "source": [
    "# Merge Data"
   ]
  },
  {
   "cell_type": "code",
   "execution_count": 14,
   "metadata": {},
   "outputs": [],
   "source": [
    "# Define dataset parameters\n",
    "dataset_1_params = {\n",
    "    'data_dir': '/home/LIBS/jozefov/projects/object_detection_avaltar/object_detection/data/merged_forklift',\n",
    "    'train_images_dir': 'train/',\n",
    "    'train_labels_dir': 'annotations/yolo_format_train',\n",
    "    'val_images_dir': 'val/',\n",
    "    'val_labels_dir': 'annotations/yolo_format_val',\n",
    "    'test_images_dir': 'test/',\n",
    "    'test_labels_dir': 'annotations/yolo_format_test',\n",
    "}\n",
    "\n",
    "dataset_2_params = {\n",
    "    'data_dir': '/home/LIBS/jozefov/projects/object_detection_avaltar/object_detection/data/PPE-Detection-Using-CV-3',\n",
    "    'train_images_dir': 'train/images',\n",
    "    'train_labels_dir': 'train/labels',\n",
    "    'val_images_dir': 'valid/images',\n",
    "    'val_labels_dir': 'valid/labels', \n",
    "    'test_images_dir': 'test/images',\n",
    "    'test_labels_dir': 'test/labels',\n",
    "}\n",
    "\n",
    "merge_datasets_list = [dataset_1_params, dataset_2_params]\n",
    "\n",
    "# Define the path to class_mappings.yaml\n",
    "mapping_yaml = \"/home/LIBS/jozefov/projects/object_detection_avaltar/object_detection/data/merged_dataset/class_mappings.yaml\"\n",
    "\n",
    "# Define merged dataset parameters\n",
    "merge_dataset_params = {\n",
    "    'data_dir': '/home/LIBS/jozefov/projects/object_detection_avaltar/object_detection/data/merged_dataset',\n",
    "    'train_images_dir': 'train/images',\n",
    "    'train_labels_dir': 'train/labels',\n",
    "    'val_images_dir': 'val/images',\n",
    "    'val_labels_dir': 'val/labels',\n",
    "    'test_images_dir': 'test/images',\n",
    "    'test_labels_dir': 'test/labels',\n",
    "}\n"
   ]
  },
  {
   "cell_type": "code",
   "execution_count": 15,
   "metadata": {},
   "outputs": [
    {
     "name": "stdout",
     "output_type": "stream",
     "text": [
      "\n",
      "--- Merging Completed ---\n",
      "Total images to merge: 6820\n",
      "Total labels to merge: 6820\n",
      "Total images merged: 6820\n",
      "Total labels merged: 6820\n",
      "Verification Passed: All images and labels have been successfully merged.\n"
     ]
    }
   ],
   "source": [
    "# Perform the merge\n",
    "merge_datasets(\n",
    "    merge_datasets=merge_datasets_list,\n",
    "    mapping_yaml=mapping_yaml,\n",
    "    merge_dataset_params=merge_dataset_params\n",
    ")"
   ]
  },
  {
   "cell_type": "code",
   "execution_count": 16,
   "metadata": {},
   "outputs": [
    {
     "name": "stdout",
     "output_type": "stream",
     "text": [
      "\n",
      "Analyzing Dataset: /home/LIBS/jozefov/projects/object_detection_avaltar/object_detection/data/merged_forklift\n",
      "  Using class mapping from: /home/LIBS/jozefov/projects/object_detection_avaltar/object_detection/data/merged_forklift/annotations/data.yaml\n",
      "  Split: train\n",
      "    Total Common Images and Labels: 3406\n",
      "    Images without Labels: 0\n",
      "    Labels without Images: 0\n",
      "    Sample Label File: image_319_jpg.rf.12835d9468d8e79572b4df225caceaae.txt\n",
      "      Original Label Content:\n",
      "\n",
      "      Merged Label Content:\n",
      "\n",
      "  Split: val\n",
      "    Total Common Images and Labels: 1042\n",
      "    Images without Labels: 0\n",
      "    Labels without Images: 0\n",
      "    Sample Label File: cut_12153785-CH-3-20220528173942-aa_32_jpg.rf.75bedbc99601f7ad64609c166fe4d90e.txt\n",
      "      Original Label Content:\n",
      "0 0.83203125 0.10546875 0.10390625 0.2\n",
      "      Merged Label Content:\n",
      "0 0.83203125 0.10546875 0.10390625 0.2\n",
      "\n",
      "  Split: test\n",
      "    Total Common Images and Labels: 326\n",
      "    Images without Labels: 0\n",
      "    Labels without Images: 0\n",
      "    Sample Label File: image_186_jpg.rf.a61bec3e298747d5c1fa315b6957b167.txt\n",
      "      Original Label Content:\n",
      "0 0.4578125 0.6125 0.309375 0.5640625\n",
      "      Merged Label Content:\n",
      "0 0.4578125 0.6125 0.309375 0.5640625\n",
      "\n",
      "\n",
      "Analyzing Dataset: /home/LIBS/jozefov/projects/object_detection_avaltar/object_detection/data/PPE-Detection-Using-CV-3\n",
      "  Using class mapping from: /home/LIBS/jozefov/projects/object_detection_avaltar/object_detection/data/PPE-Detection-Using-CV-3/data.yaml\n",
      "  Split: train\n",
      "    Total Common Images and Labels: 1428\n",
      "    Images without Labels: 0\n",
      "    Labels without Images: 0\n",
      "    Sample Label File: ppe_0631_jpg.rf.cb0a597b2942304542a6a16e880399fa.txt\n",
      "      Original Label Content:\n",
      "0 0.4734236581552892 0.5061855670103093 0.19854090672225116 0.7649484536082474\n",
      "0 0.3712871287128713 0.5467353951890034 0.10995310057321521 0.5601374570446735\n",
      "0 0.1552892131318395 0.5676975945017182 0.20427305888483585 0.7051546391752578\n",
      "2 0.41886399166232413 0.1768384879725086 0.09536216779572694 0.09484536082474226\n",
      "2 0.20088587806149036 0.26151202749140895 0.08181344450234497 0.0859106529209622\n",
      "2 0.37727983324648257 0.3054982817869416 0.0594059405940594 0.07079037800687285\n",
      "6 0.4877540385617509 0.401573883161512 0.1344450234497134 0.27147766323024053\n",
      "6 0.16232412714955707 0.4903780068728522 0.13496612819176654 0.3237113402061856\n",
      "6 0.36685773840541946 0.4934707903780069 0.10109431995831163 0.2268041237113402\n",
      "      Merged Label Content:\n",
      "0 0.4734236581552892 0.5061855670103093 0.19854090672225116 0.7649484536082474\n",
      "0 0.3712871287128713 0.5467353951890034 0.10995310057321521 0.5601374570446735\n",
      "0 0.1552892131318395 0.5676975945017182 0.20427305888483585 0.7051546391752578\n",
      "3 0.41886399166232413 0.1768384879725086 0.09536216779572694 0.09484536082474226\n",
      "3 0.20088587806149036 0.26151202749140895 0.08181344450234497 0.0859106529209622\n",
      "3 0.37727983324648257 0.3054982817869416 0.0594059405940594 0.07079037800687285\n",
      "7 0.4877540385617509 0.401573883161512 0.1344450234497134 0.27147766323024053\n",
      "7 0.16232412714955707 0.4903780068728522 0.13496612819176654 0.3237113402061856\n",
      "7 0.36685773840541946 0.4934707903780069 0.10109431995831163 0.2268041237113402\n",
      "\n",
      "  Split: val\n",
      "    Total Common Images and Labels: 403\n",
      "    Images without Labels: 0\n",
      "    Labels without Images: 0\n",
      "    Sample Label File: image_487_jpg.rf.0a4e27edaed103b86df6efa6bd45aaea.txt\n",
      "      Original Label Content:\n",
      "2 0.41427692307692304 0.07553237410071942 0.2824076923076923 0.14746043165467626\n",
      "1 0.43061538461538457 0.15228776978417266 0.14969230769230768 0.04558273381294964\n",
      "6 0.44157692307692303 0.5226187050359713 0.4354692307692308 0.5171870503597122\n",
      "0 0.42538461538461536 0.46906474820143884 0.54 0.9381294964028777\n",
      "0 0.8884615384615384 0.7345323741007195 0.14307692307692307 0.3640287769784173\n",
      "2 0.8892307692307693 0.5884892086330935 0.07384615384615385 0.04892086330935252\n",
      "6 0.89 0.6884892086330935 0.10307692307692308 0.14820143884892087\n",
      "      Merged Label Content:\n",
      "3 0.41427692307692304 0.07553237410071942 0.2824076923076923 0.14746043165467626\n",
      "2 0.43061538461538457 0.15228776978417266 0.14969230769230768 0.04558273381294964\n",
      "7 0.44157692307692303 0.5226187050359713 0.4354692307692308 0.5171870503597122\n",
      "0 0.42538461538461536 0.46906474820143884 0.54 0.9381294964028777\n",
      "0 0.8884615384615384 0.7345323741007195 0.14307692307692307 0.3640287769784173\n",
      "3 0.8892307692307693 0.5884892086330935 0.07384615384615385 0.04892086330935252\n",
      "7 0.89 0.6884892086330935 0.10307692307692308 0.14820143884892087\n",
      "\n",
      "  Split: test\n",
      "    Total Common Images and Labels: 215\n",
      "    Images without Labels: 0\n",
      "    Labels without Images: 0\n",
      "    Sample Label File: ppe_1272_jpg.rf.fb091a19d8e0e91edcfe0ac9f24bfec2.txt\n",
      "      Original Label Content:\n",
      "0 0.3884757118927973 0.4498 0.10050251256281408 0.3125\n",
      "2 0.39489112227805695 0.32520000000000004 0.05108877721943048 0.0625\n",
      "5 0.38706867671691797 0.42457500000000004 0.07035175879396985 0.14875\n",
      "      Merged Label Content:\n",
      "0 0.3884757118927973 0.4498 0.10050251256281408 0.3125\n",
      "3 0.39489112227805695 0.32520000000000004 0.05108877721943048 0.0625\n",
      "6 0.38706867671691797 0.42457500000000004 0.07035175879396985 0.14875\n",
      "\n",
      "\n",
      "Merged Split: train\n",
      "  Total Common Images and Labels: 4834\n",
      "  Images without Labels: 0\n",
      "  Labels without Images: 0\n",
      "\n",
      "Merged Split: val\n",
      "  Total Common Images and Labels: 1445\n",
      "  Images without Labels: 0\n",
      "  Labels without Images: 0\n",
      "\n",
      "Merged Split: test\n",
      "  Total Common Images and Labels: 541\n",
      "  Images without Labels: 0\n",
      "  Labels without Images: 0\n",
      "\n",
      "--- Verification Summary ---\n",
      "  Train Split: OK (Merged: 4834, Source: 4834)\n",
      "  Val Split: OK (Merged: 1445, Source: 1445)\n",
      "  Test Split: OK (Merged: 541, Source: 541)\n",
      "\n",
      "--- Sample Label Verification ---\n",
      "\n",
      "Dataset: /home/LIBS/jozefov/projects/object_detection_avaltar/object_detection/data/merged_forklift, Split: train, Sample: cut_12153785-CH-4-20220608170503-aa_285_jpg.rf.611e7ac410c1761453e656aceea5805c.txt\n",
      "  Original Label Content:\n",
      "1 0.26015625 0.4546875 0.0703125 0.19140625\n",
      "0 0.18203125 0.421875 0.13515625 0.340625\n",
      "0 0.3578125 0.42890625 0.14296875 0.3046875\n",
      "  Merged Label Content:\n",
      "1 0.26015625 0.4546875 0.0703125 0.19140625\n",
      "0 0.18203125 0.421875 0.13515625 0.340625\n",
      "0 0.3578125 0.42890625 0.14296875 0.3046875\n",
      "\n",
      "\n",
      "Dataset: /home/LIBS/jozefov/projects/object_detection_avaltar/object_detection/data/merged_forklift, Split: val, Sample: cut_12153785-CH-4-20220528174402-aa-1-_712_jpg.rf.3dddbd3df4d7d25f8ac8eed983fb19ad.txt\n",
      "  Original Label Content:\n",
      "0 0.41875 0.7078125 0.259375 0.58203125\n",
      "1 0.43984375 0.3109375 0.0578125 0.17109375\n",
      "0 0.1890625 0.42421875 0.1453125 0.31328125\n",
      "  Merged Label Content:\n",
      "0 0.41875 0.7078125 0.259375 0.58203125\n",
      "1 0.43984375 0.3109375 0.0578125 0.17109375\n",
      "0 0.1890625 0.42421875 0.1453125 0.31328125\n",
      "\n",
      "\n",
      "Dataset: /home/LIBS/jozefov/projects/object_detection_avaltar/object_detection/data/merged_forklift, Split: test, Sample: cut_12153785-CH-5-20220609100904-aa_585_jpg.rf.69a250cf99c55816fa86b8d1ca1c6787.txt\n",
      "  Original Label Content:\n",
      "0 0.11484375 0.57578125 0.21640625 0.76875\n",
      "  Merged Label Content:\n",
      "0 0.11484375 0.57578125 0.21640625 0.76875\n",
      "\n",
      "\n",
      "Dataset: /home/LIBS/jozefov/projects/object_detection_avaltar/object_detection/data/PPE-Detection-Using-CV-3, Split: train, Sample: ppe_0255_jpg.rf.a2f3bb2cceb510800491d31b6d337ed7.txt\n",
      "  Original Label Content:\n",
      "2 0.48267898383371827 0.08153846153846153 0.20092378752886836 0.09692307692307692\n",
      "6 0.48498845265588914 0.34076923076923077 0.42725173210161665 0.3076923076923077\n",
      "0 0.4907621247113164 0.5015384615384615 0.4353348729792148 0.946923076923077\n",
      "3 0.48354503464203236 0.12307692307692308 0.12413394919168591 0.04230769230769231\n",
      "  Merged Label Content:\n",
      "3 0.48267898383371827 0.08153846153846153 0.20092378752886836 0.09692307692307692\n",
      "7 0.48498845265588914 0.34076923076923077 0.42725173210161665 0.3076923076923077\n",
      "0 0.4907621247113164 0.5015384615384615 0.4353348729792148 0.946923076923077\n",
      "4 0.48354503464203236 0.12307692307692308 0.12413394919168591 0.04230769230769231\n",
      "\n",
      "\n",
      "Dataset: /home/LIBS/jozefov/projects/object_detection_avaltar/object_detection/data/PPE-Detection-Using-CV-3, Split: val, Sample: image_1204_jpg.rf.1570e12eed87ed3a439d1683980fdb36.txt\n",
      "  Original Label Content:\n",
      "2 0.70286 0.32221889055472264 0.15480000000000002 0.09847076461769116\n",
      "1 0.68035 0.35124437781109447 0.0698 0.02164917541229385\n",
      "6 0.74324 0.7593703148425787 0.32153 0.47227886056971513\n",
      "0 0.73011 0.6491754122938531 0.33526999999999996 0.7016491754122939\n",
      "  Merged Label Content:\n",
      "3 0.70286 0.32221889055472264 0.15480000000000002 0.09847076461769116\n",
      "2 0.68035 0.35124437781109447 0.0698 0.02164917541229385\n",
      "7 0.74324 0.7593703148425787 0.32153 0.47227886056971513\n",
      "0 0.73011 0.6491754122938531 0.33526999999999996 0.7016491754122939\n",
      "\n",
      "\n",
      "Dataset: /home/LIBS/jozefov/projects/object_detection_avaltar/object_detection/data/PPE-Detection-Using-CV-3, Split: test, Sample: image_896_jpg.rf.d5cc8a3546190365202e01620d9e4bef.txt\n",
      "  Original Label Content:\n",
      "0 0.49760891590678824 0.5 0.9952279635258359 1\n",
      "2 0.5096251266464032 0.3046875 0.889564336372847 0.609375\n",
      "1 0.5106382978723404 0.4609375 0.60790273556231 0.3984375\n",
      "  Merged Label Content:\n",
      "0 0.49760891590678824 0.5 0.9952279635258359 1\n",
      "3 0.5096251266464032 0.3046875 0.889564336372847 0.609375\n",
      "2 0.5106382978723404 0.4609375 0.60790273556231 0.3984375\n",
      "\n",
      "\n",
      "--- Analysis Completed ---\n"
     ]
    }
   ],
   "source": [
    "# Perform the analysis\n",
    "analyze_datasets(\n",
    "    merge_datasets_list=merge_datasets_list,\n",
    "    mapping_yaml=mapping_yaml,\n",
    "    merge_dataset_params=merge_dataset_params\n",
    ")"
   ]
  },
  {
   "cell_type": "markdown",
   "metadata": {},
   "source": [
    "# Merge coco dataset "
   ]
  },
  {
   "cell_type": "code",
   "execution_count": null,
   "metadata": {},
   "outputs": [],
   "source": []
  },
  {
   "cell_type": "code",
   "execution_count": null,
   "metadata": {},
   "outputs": [],
   "source": []
  },
  {
   "cell_type": "code",
   "execution_count": null,
   "metadata": {},
   "outputs": [],
   "source": []
  }
 ],
 "metadata": {
  "kernelspec": {
   "display_name": "avaltar_2",
   "language": "python",
   "name": "python3"
  },
  "language_info": {
   "codemirror_mode": {
    "name": "ipython",
    "version": 3
   },
   "file_extension": ".py",
   "mimetype": "text/x-python",
   "name": "python",
   "nbconvert_exporter": "python",
   "pygments_lexer": "ipython3",
   "version": "3.9.21"
  }
 },
 "nbformat": 4,
 "nbformat_minor": 2
}
